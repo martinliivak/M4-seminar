{
 "cells": [
  {
   "cell_type": "code",
   "execution_count": 1,
   "metadata": {},
   "outputs": [],
   "source": [
    "%matplotlib inline\n",
    "\n",
    "import pandas as pd\n",
    "import numpy as np\n",
    "import matplotlib.pyplot as plt"
   ]
  },
  {
   "cell_type": "code",
   "execution_count": 2,
   "metadata": {},
   "outputs": [],
   "source": [
    "data_path_rel = \"./data/opt-arima\"\n",
    "dataset_size = \"10000\"\n",
    "\n",
    "residuals_path = data_path_rel + \"/residuals-\" +  dataset_size + \"-\"\n",
    "arima_path = data_path_rel + \"/arima-\" + dataset_size + \"-\"\n",
    "\n",
    "time_categories = [\"Hourly\", \"Daily\", \"Weekly\", \"Monthly\", \"Quarterly\", \"Yearly\"]\n",
    "prediction_horizons = {\"Hourly\": 48, \"Daily\": 14, \"Weekly\": 13, \"Monthly\": 18, \"Quarterly\": 8, \"Yearly\": 6}"
   ]
  },
  {
   "cell_type": "code",
   "execution_count": 3,
   "metadata": {},
   "outputs": [],
   "source": [
    "from sklearn.preprocessing import MinMaxScaler\n",
    "\n",
    "def scale_timeseries(residuals_data):\n",
    "    scalers = [None] * residuals_data.shape[0]\n",
    "    \n",
    "    scaled_data = np.zeros(residuals_data.shape)  # TODO: Make sure the dtype is actually 32 bit in Keras\n",
    "    \n",
    "    counter = 0\n",
    "    for i, row in residuals_data.iterrows():\n",
    "        res = row.dropna().values\n",
    "        \n",
    "        # Scale\n",
    "        res = res.reshape((res.shape[0], 1))\n",
    "        \n",
    "        scaler = MinMaxScaler()\n",
    "        scaler = scaler.fit(res)\n",
    "        res = scaler.transform(res).flatten()\n",
    "        \n",
    "        scalers[counter] = scaler\n",
    "        \n",
    "        scaled_data[counter, -res.shape[0]:] = res\n",
    "        \n",
    "        counter += 1\n",
    "        \n",
    "    return scaled_data, scalers"
   ]
  },
  {
   "cell_type": "code",
   "execution_count": 4,
   "metadata": {},
   "outputs": [],
   "source": [
    "def create_sliding_window_from_data(data, horizon):\n",
    "    nr_windows = data.shape[1] - horizon\n",
    "    \n",
    "    X = list()\n",
    "    y = list()\n",
    "    \n",
    "    for row in data:\n",
    "        for i in range(nr_windows):\n",
    "            window = row[i: i + horizon]\n",
    "            \n",
    "            if np.count_nonzero(window) > 0:\n",
    "                X.append(window)\n",
    "                y.append(row[i + horizon])\n",
    "        \n",
    "    return np.array(X), np.array(y)"
   ]
  },
  {
   "cell_type": "code",
   "execution_count": 5,
   "metadata": {},
   "outputs": [
    {
     "name": "stderr",
     "output_type": "stream",
     "text": [
      "c:\\users\\markus\\appdata\\local\\conda\\conda\\envs\\ml-agents\\lib\\site-packages\\h5py\\__init__.py:36: FutureWarning: Conversion of the second argument of issubdtype from `float` to `np.floating` is deprecated. In future, it will be treated as `np.float64 == np.dtype(float).type`.\n",
      "  from ._conv import register_converters as _register_converters\n",
      "Using TensorFlow backend.\n"
     ]
    }
   ],
   "source": [
    "from keras.models import Sequential\n",
    "from keras.layers import Dense\n",
    "from keras.layers import Dropout\n",
    "\n",
    "def create_model(input_len, neurons=6):\n",
    "    model = Sequential()\n",
    "    model.add(Dense(2 * input_len + 1, activation='relu', input_shape=(input_len,)))\n",
    "    model.add(Dropout(0.4))\n",
    "    model.add(Dense(2 * input_len + 1))\n",
    "    model.add(Dropout(0.4))\n",
    "    model.add(Dense(1))\n",
    "    model.compile(loss='mean_squared_error', optimizer='adam')\n",
    "    \n",
    "    return model"
   ]
  },
  {
   "cell_type": "code",
   "execution_count": 6,
   "metadata": {},
   "outputs": [],
   "source": [
    "def make_predictions(residuals, model, horizon):\n",
    "    data = residuals.copy()\n",
    "    for i in range(horizon):\n",
    "        pred = model.predict(data[:, -horizon:])\n",
    "        data = np.hstack((data, pred))\n",
    "        \n",
    "    return data[:, -horizon:]"
   ]
  },
  {
   "cell_type": "code",
   "execution_count": 7,
   "metadata": {},
   "outputs": [],
   "source": [
    "def inverse_scale(predictions, scalers):\n",
    "    scaled_predictions = [None] * predictions.shape[0]\n",
    "    \n",
    "    for i in range(predictions.shape[0]):\n",
    "        scaler = scalers[i]\n",
    "        scaled_predictions[i] = scaler.inverse_transform(predictions[i,:].reshape(predictions.shape[1], 1)).flatten()\n",
    "\n",
    "    return np.array(scaled_predictions)"
   ]
  },
  {
   "cell_type": "code",
   "execution_count": 8,
   "metadata": {},
   "outputs": [],
   "source": [
    "def get_results(temporal_category):\n",
    "    train_data = pd.read_csv(residuals_path + temporal_category + \".csv\", index_col=0)\n",
    "    \n",
    "    arima_data = pd.read_csv(arima_path + temporal_category + \".csv\", index_col=0)\n",
    "    \n",
    "    test_arima = arima_data.values\n",
    "    \n",
    "    scaled_residuals, scalers = scale_timeseries(train_data)\n",
    "    \n",
    "    train_X, train_y = create_sliding_window_from_data(scaled_residuals, prediction_horizons[temporal_category])\n",
    "    \n",
    "    model = create_model(train_X.shape[1])\n",
    "    \n",
    "    model.fit(train_X, train_y, epochs=20, batch_size=32, verbose=0, validation_split=0.1, shuffle=True)\n",
    "    \n",
    "    predictions = make_predictions(scaled_residuals, model, prediction_horizons[temporal_category])\n",
    "    \n",
    "    predictions = inverse_scale(predictions, scalers)\n",
    "    \n",
    "    results_frame = pd.DataFrame(test_arima + predictions, index=train_data.index)\n",
    "    results_frame.to_csv(data_path_rel + \"-results/a_\" + temporal_category + \"_\" + dataset_size + \".csv\")"
   ]
  },
  {
   "cell_type": "code",
   "execution_count": 9,
   "metadata": {},
   "outputs": [
    {
     "name": "stdout",
     "output_type": "stream",
     "text": [
      "Working on Hourly\n",
      "Working on Daily\n",
      "Working on Weekly\n",
      "Working on Monthly\n",
      "Working on Quarterly\n",
      "Working on Yearly\n",
      "DONE\n"
     ]
    }
   ],
   "source": [
    "for i in range(len(time_categories)):\n",
    "    print(\"Working on \" + time_categories[i])\n",
    "    get_results(time_categories[i])\n",
    "    \n",
    "print(\"DONE\")"
   ]
  },
  {
   "cell_type": "code",
   "execution_count": null,
   "metadata": {},
   "outputs": [],
   "source": []
  }
 ],
 "metadata": {
  "kernelspec": {
   "display_name": "Python 3",
   "language": "python",
   "name": "python3"
  },
  "language_info": {
   "codemirror_mode": {
    "name": "ipython",
    "version": 3
   },
   "file_extension": ".py",
   "mimetype": "text/x-python",
   "name": "python",
   "nbconvert_exporter": "python",
   "pygments_lexer": "ipython3",
   "version": "3.5.5"
  }
 },
 "nbformat": 4,
 "nbformat_minor": 2
}
