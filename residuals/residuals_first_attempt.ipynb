{
 "cells": [
  {
   "cell_type": "code",
   "execution_count": 1,
   "metadata": {
    "collapsed": true
   },
   "outputs": [],
   "source": [
    "%matplotlib inline\n",
    "\n",
    "import pandas as pd\n",
    "import numpy as np\n",
    "import matplotlib.pyplot as plt"
   ]
  },
  {
   "cell_type": "code",
   "execution_count": 2,
   "metadata": {
    "collapsed": true
   },
   "outputs": [],
   "source": [
    "data_path_rel = \"../../cut/\"\n",
    "arima_path_rel = \"./data/\"\n",
    "dataset_size = \"10000\"\n",
    "\n",
    "data_path = data_path_rel + dataset_size + \"/\"\n",
    "arima_path = arima_path_rel + dataset_size + \"-\"\n",
    "\n",
    "time_categories = [\"Hourly\", \"Daily\", \"Weekly\", \"Monthly\", \"Quarterly\", \"Yearly\"]\n",
    "prediction_horizons = {\"Hourly\": 48, \"Daily\": 14, \"Weekly\": 13, \"Monthly\": 18, \"Quarterly\": 8, \"Yearly\": 6}"
   ]
  },
  {
   "cell_type": "code",
   "execution_count": 3,
   "metadata": {
    "collapsed": true
   },
   "outputs": [],
   "source": [
    "from sklearn.preprocessing import MinMaxScaler\n",
    "\n",
    "def create_residuals(temporal_category, train_data, arima_data, scale=True):\n",
    "    horizon = prediction_horizons[temporal_category]\n",
    "    \n",
    "    assert train_data.shape[0] == arima_data.shape[0], \"Both of the data frames must have the same number of rows\"\n",
    "    \n",
    "    residuals_shape = (arima_data.shape[0], arima_data.shape[1] - horizon)\n",
    "    \n",
    "    residuals = np.zeros(shape=residuals_shape)\n",
    "    test_arima = np.zeros(shape=(arima_data.shape[0], horizon))\n",
    "    scalers = [None] * train_data.shape[0]\n",
    "    \n",
    "    counter = 0\n",
    "    for i, row in train_data.iterrows():\n",
    "        arima_row = arima_data.loc[i].dropna()\n",
    "        \n",
    "        arima_train = arima_row[:-horizon]\n",
    "        arima_test = arima_row[-horizon:]\n",
    "        \n",
    "        row = row.dropna()[-arima_train.shape[0]:]\n",
    "        \n",
    "        residual_values = row.values - arima_row[:-horizon].values\n",
    "        \n",
    "        if scale:\n",
    "            residual_values = residual_values.reshape((residual_values.shape[0], 1))\n",
    "            \n",
    "            scaler = MinMaxScaler()\n",
    "            scaler = scaler.fit(residual_values)\n",
    "            residual_values = scaler.transform(residual_values).flatten()\n",
    "            \n",
    "            scalers[counter] = scaler\n",
    "            \n",
    "        residuals[counter, -arima_train.shape[0]:] = residual_values\n",
    "        test_arima[counter, :] = arima_test\n",
    "        \n",
    "        counter += 1\n",
    "        \n",
    "    return residuals, test_arima, scalers"
   ]
  },
  {
   "cell_type": "code",
   "execution_count": 4,
   "metadata": {
    "collapsed": true
   },
   "outputs": [],
   "source": [
    "def create_sliding_window_from_data(data, horizon):\n",
    "    nr_windows = data.shape[1] - horizon\n",
    "    \n",
    "    X = list()\n",
    "    y = list()\n",
    "    \n",
    "    for row in data:\n",
    "        for i in range(nr_windows):\n",
    "            window = row[i: i + horizon]\n",
    "            \n",
    "            if np.count_nonzero(window) > 0:\n",
    "                X.append(window)\n",
    "                y.append(row[i + horizon])\n",
    "        \n",
    "    return np.array(X), np.array(y)"
   ]
  },
  {
   "cell_type": "code",
   "execution_count": 5,
   "metadata": {},
   "outputs": [
    {
     "name": "stderr",
     "output_type": "stream",
     "text": [
      "Using TensorFlow backend.\n"
     ]
    }
   ],
   "source": [
    "from keras.models import Sequential\n",
    "from keras.layers import Dense\n",
    "from keras.layers import Dropout\n",
    "\n",
    "def create_model(input_len, neurons=6):\n",
    "    model = Sequential()\n",
    "    model.add(Dense(2 * input_len + 1, activation='relu', input_shape=(input_len,)))\n",
    "    model.add(Dropout(0.4))\n",
    "    model.add(Dense(2 * input_len + 1))\n",
    "    model.add(Dropout(0.4))\n",
    "    model.add(Dense(1))\n",
    "    model.compile(loss='mean_squared_error', optimizer='adam')\n",
    "    \n",
    "    return model"
   ]
  },
  {
   "cell_type": "code",
   "execution_count": 6,
   "metadata": {
    "collapsed": true
   },
   "outputs": [],
   "source": [
    "def make_predictions(residuals, model, horizon):\n",
    "    data = residuals.copy()\n",
    "    for i in range(horizon):\n",
    "        pred = model.predict(data[:, -horizon:])\n",
    "        data = np.hstack((data, pred))\n",
    "        \n",
    "    return data[:, -horizon:]"
   ]
  },
  {
   "cell_type": "code",
   "execution_count": 7,
   "metadata": {
    "collapsed": true
   },
   "outputs": [],
   "source": [
    "def inverse_scale(predictions, scalers):\n",
    "    scaled_predictions = [None] * predictions.shape[0]\n",
    "    \n",
    "    for i in range(predictions.shape[0]):\n",
    "        scaler = scalers[i]\n",
    "        scaled_predictions[i] = scaler.inverse_transform(predictions[i,:].reshape(predictions.shape[1], 1)).flatten()\n",
    "\n",
    "    return np.array(scaled_predictions)"
   ]
  },
  {
   "cell_type": "code",
   "execution_count": 8,
   "metadata": {
    "collapsed": true
   },
   "outputs": [],
   "source": [
    "def get_results(temporal_category):\n",
    "    train_data = pd.read_csv(data_path + \"train/\" + temporal_category + \".csv\", index_col=1)\n",
    "    train_data = train_data.iloc[:, 1:]\n",
    "\n",
    "    arima_data = pd.read_csv(arima_path + temporal_category + \".csv\", index_col=0)\n",
    "    residuals, test_arima, scalers = create_residuals(temporal_category, train_data, arima_data)\n",
    "    \n",
    "    train_X, train_y = create_sliding_window_from_data(residuals, prediction_horizons[temporal_category])\n",
    "    \n",
    "    model = create_model(train_X.shape[1])\n",
    "    \n",
    "    model.fit(train_X, train_y, epochs=20, batch_size=32, verbose=0, validation_split=0.1, shuffle=True)\n",
    "    \n",
    "    predictions = make_predictions(residuals, model, prediction_horizons[temporal_category])\n",
    "    \n",
    "    predictions = inverse_scale(predictions, scalers)\n",
    "    \n",
    "    results_frame = pd.DataFrame(test_arima + predictions, index=train_data.index)\n",
    "    results_frame.to_csv(\"./res2_\" + temporal_category + \"_\" + dataset_size + \".csv\")"
   ]
  },
  {
   "cell_type": "code",
   "execution_count": 9,
   "metadata": {},
   "outputs": [
    {
     "name": "stdout",
     "output_type": "stream",
     "text": [
      "Working on Hourly\n",
      "Working on Daily\n",
      "Working on Weekly\n",
      "Working on Monthly\n",
      "Working on Quarterly\n",
      "Working on Yearly\n",
      "DONE\n"
     ]
    }
   ],
   "source": [
    "for i in range(len(time_categories)):\n",
    "    print(\"Working on \" + time_categories[i])\n",
    "    get_results(time_categories[i])\n",
    "\n",
    "print(\"DONE\")"
   ]
  }
 ],
 "metadata": {
  "kernelspec": {
   "display_name": "Python [conda env:tensorflowstuff]",
   "language": "python",
   "name": "conda-env-tensorflowstuff-py"
  },
  "language_info": {
   "codemirror_mode": {
    "name": "ipython",
    "version": 3
   },
   "file_extension": ".py",
   "mimetype": "text/x-python",
   "name": "python",
   "nbconvert_exporter": "python",
   "pygments_lexer": "ipython3",
   "version": "3.5.4"
  }
 },
 "nbformat": 4,
 "nbformat_minor": 2
}
