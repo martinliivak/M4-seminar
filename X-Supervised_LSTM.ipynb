{
 "cells": [
  {
   "cell_type": "markdown",
   "metadata": {},
   "source": [
    "LSTM method using this method as a source https://machinelearningmastery.com/time-series-forecasting-long-short-term-memory-network-python/\n",
    "\n",
    "tldr: Transform dataset into supervised method, make it stationary, transform to scale, LSTM"
   ]
  },
  {
   "cell_type": "code",
   "execution_count": 34,
   "metadata": {},
   "outputs": [],
   "source": [
    "%matplotlib inline\n",
    "\n",
    "import numpy as np\n",
    "import pandas as pd\n",
    "import matplotlib.pyplot as plt"
   ]
  },
  {
   "cell_type": "code",
   "execution_count": 35,
   "metadata": {},
   "outputs": [],
   "source": [
    "from sklearn.metrics import mean_squared_error\n",
    "from sklearn.preprocessing import MinMaxScaler\n",
    "from keras.models import Sequential\n",
    "from keras.layers import Dense\n",
    "from keras.layers import LSTM\n",
    "\n",
    "# frame a sequence as a supervised learning problem\n",
    "def timeseries_to_supervised(data, lag=1):\n",
    "    df = pd.DataFrame(data)\n",
    "    columns = [df.shift(i) for i in range(1, lag+1)]\n",
    "    columns.append(df)\n",
    "    df = pd.concat(columns, axis=1)\n",
    "    df.fillna(0, inplace=True)\n",
    "    return df\n",
    "\n",
    "# create a differenced series\n",
    "def difference(dataset, interval=1):\n",
    "    diff = list()\n",
    "    for i in range(interval, len(dataset)):\n",
    "        value = dataset[i] - dataset[i - interval]\n",
    "        diff.append(value)\n",
    "    return pd.Series(diff)\n",
    "\n",
    "# invert differenced value\n",
    "def inverse_difference(history, yhat, interval=1):\n",
    "    return yhat + history[-interval]\n",
    "\n",
    "# scale train and test data to [-1, 1]\n",
    "def scale(train, test):\n",
    "    # fit scaler\n",
    "    scaler = MinMaxScaler(feature_range=(-1, 1))\n",
    "    scaler = scaler.fit(train)\n",
    "    # transform train\n",
    "    train = train.reshape(train.shape[0], train.shape[1])\n",
    "    train_scaled = scaler.transform(train)\n",
    "    # transform test\n",
    "    test = test.reshape(test.shape[0], test.shape[1])\n",
    "    test_scaled = scaler.transform(test)\n",
    "    return scaler, train_scaled, test_scaled\n",
    "\n",
    "# inverse scaling for a forecasted value\n",
    "def invert_scale(scaler, X, value):\n",
    "    new_row = [x for x in X] + [value]\n",
    "    array = np.array(new_row)\n",
    "    array = array.reshape(1, len(array))\n",
    "    inverted = scaler.inverse_transform(array)\n",
    "    return inverted[0, -1]\n",
    "\n",
    "# fit an LSTM network to training data\n",
    "def fit_lstm(train, batch_size, nb_epoch, neurons):\n",
    "    X, y = train[:, 0:-1], train[:, -1]\n",
    "    X = X.reshape(X.shape[0], 1, X.shape[1])\n",
    "    model = Sequential()\n",
    "    model.add(LSTM(neurons, batch_input_shape=(batch_size, X.shape[1], X.shape[2]), stateful=True))\n",
    "    model.add(Dense(1))\n",
    "    model.compile(loss='mean_squared_error', optimizer='adam')\n",
    "    for i in range(nb_epoch):\n",
    "        model.fit(X, y, epochs=1, batch_size=batch_size, verbose=0, shuffle=False)\n",
    "        model.reset_states()\n",
    "    return model\n",
    "\n",
    "# make a one-step forecast\n",
    "def forecast_lstm(model, batch_size, X):\n",
    "    X = X.reshape(1, 1, len(X))\n",
    "    yhat = model.predict(X, batch_size=batch_size)\n",
    "    return yhat[0,0]"
   ]
  },
  {
   "cell_type": "raw",
   "metadata": {
    "scrolled": false
   },
   "source": [
    "# forecast the entire training dataset to build up state for forecasting\n",
    "train_reshaped = train_scaled[:, 0].reshape(len(train_scaled), 1, 1)\n",
    "lstm_model.predict(train_reshaped, batch_size=1)\n",
    "\n",
    "# walk-forward validation on the test data\n",
    "predictions = list()\n",
    "for i in range(len(test_scaled)):\n",
    "    # make one-step forecast\n",
    "    X, y = test_scaled[i, 0:-1], test_scaled[i, -1]\n",
    "    yhat = forecast_lstm(lstm_model, 1, X)\n",
    "    # invert scaling\n",
    "    yhat = invert_scale(scaler, X, yhat)\n",
    "    # invert differencing\n",
    "    yhat = inverse_difference(raw_values, yhat, len(test_scaled)+1-i)\n",
    "    # store forecast\n",
    "    predictions.append(yhat)\n",
    "    expected = raw_values[len(train) + i + 1]\n",
    "    print('Month=%d, Predicted=%f, Expected=%f' % (i+1, yhat, expected))"
   ]
  },
  {
   "cell_type": "raw",
   "metadata": {},
   "source": [
    "# report performance\n",
    "rmse = np.sqrt(mean_squared_error(raw_values[-14:], predictions))\n",
    "print('Test RMSE: %.3f' % rmse)\n",
    "# line plot of observed vs predicted\n",
    "plt.plot(raw_values[-14:], label=\"Test data\")\n",
    "plt.plot(predictions, label=\"Predictions\")\n",
    "plt.legend()\n",
    "plt.show()"
   ]
  },
  {
   "cell_type": "markdown",
   "metadata": {},
   "source": [
    "Alternative prediction using the last predicted value as the input. This is necessary because we want to predict more than one time unit ahead."
   ]
  },
  {
   "cell_type": "markdown",
   "metadata": {},
   "source": [
    "Lets try with another dataset"
   ]
  },
  {
   "cell_type": "code",
   "execution_count": 36,
   "metadata": {
    "scrolled": false
   },
   "outputs": [
    {
     "name": "stdout",
     "output_type": "stream",
     "text": [
      "[-0.048924938, -0.025193669, -0.011219692, -0.0038231304, -0.0001568608, 0.0015217755, 0.0022059493, 0.0024245502, 0.002443809, 0.002390217, 0.0023196312, 0.0022539701, 0.0021998724, 0.0021577002]\n",
      "[7158.088141681925, 7154.968756677881, 7154.447623195425, 7155.301769437567, 7156.837603511587, 7158.685554804579, 7160.660718025938, 7162.6765268466625, 7164.6959164760265, 7166.705341400877, 7168.701641978994, 7170.685733976141, 7172.6597672126445, 7174.625959219709]\n"
     ]
    }
   ],
   "source": [
    "# load dataset\n",
    "series = pd.read_csv('../cut/1000/train/Daily.csv').iloc[1,2:].dropna()\n",
    "test_series = pd.read_csv('../cut/1000/test/Daily.csv').iloc[1,1:]\n",
    "\n",
    "def scale2(train_data):\n",
    "    # fit scaler\n",
    "    scaler = MinMaxScaler(feature_range=(-1, 1))\n",
    "    scaler = scaler.fit(train_data)\n",
    "    # transform train\n",
    "    train = train_data.reshape(train_data.shape[0], train_data.shape[1])\n",
    "    train_scaled = scaler.transform(train_data)\n",
    "    return scaler, train_scaled\n",
    "\n",
    "def make_predictions(lstm_model, train_scaled, scaler, raw_values):\n",
    "    train_reshaped = train_scaled[:, 0].reshape(len(train_scaled), 1, 1)\n",
    "    lstm_model.predict(train_reshaped, batch_size=1)\n",
    "\n",
    "    scaled_predictions = list()\n",
    "    predictions = list()\n",
    "    X = train_scaled[-1,1:2]\n",
    "\n",
    "    yhat = forecast_lstm(lstm_model, 1, X)\n",
    "    scaled_predictions.append(yhat)\n",
    "    \n",
    "    yhat = invert_scale(scaler, X, yhat)\n",
    "    yhat = yhat + raw_values[-1]\n",
    "    predictions.append(yhat)\n",
    "    \n",
    "    for i in range(1, 14):\n",
    "        X = np.array([scaled_predictions[-1]])\n",
    "        yhat = forecast_lstm(lstm_model, 1, X)\n",
    "        scaled_predictions.append(yhat)\n",
    "        \n",
    "        yhat = invert_scale(scaler, X, yhat)\n",
    "        yhat = yhat + predictions[-1]\n",
    "        predictions.append(yhat)\n",
    "    \n",
    "    print(scaled_predictions)\n",
    "    print(predictions)\n",
    "\n",
    "    return predictions\n",
    "    \n",
    "\n",
    "def create_model_and_predict(train_series):\n",
    "    # transform data to be stationary\n",
    "    raw_values = train_series.values\n",
    "    diff_values = difference(raw_values, 1)\n",
    "\n",
    "    # transform data to be supervised learning\n",
    "    supervised = timeseries_to_supervised(diff_values, 1)\n",
    "    supervised_values = supervised.values\n",
    "\n",
    "    # transform the scale of the data\n",
    "    scaler, train_scaled = scale2(train)\n",
    "\n",
    "    # fit the model\n",
    "    lstm_model = fit_lstm(train_scaled, 1, 100, 4)\n",
    "    \n",
    "    predictions = make_predictions(lstm_model, train_scaled, scaler, raw_values)\n",
    "    return predictions\n",
    "\n",
    "pred = create_model_and_predict(series)"
   ]
  },
  {
   "cell_type": "code",
   "execution_count": 37,
   "metadata": {},
   "outputs": [
    {
     "name": "stdout",
     "output_type": "stream",
     "text": [
      "Test RMSE: 158.106\n"
     ]
    },
    {
     "data": {
      "image/png": "[encoded data removed]",
      "text/plain": [
       "<Figure size 432x288 with 1 Axes>"
      ]
     },
     "metadata": {},
     "output_type": "display_data"
    }
   ],
   "source": [
    "rmse = np.sqrt(mean_squared_error(test_series.values[-14:], pred[-14:]))\n",
    "print('Test RMSE: %.3f' % rmse)\n",
    "# line plot of observed vs predicted\n",
    "plt.plot(test_series.values[-14:], label=\"Test data\")\n",
    "plt.plot(pred[-14:], label=\"Predictions\")\n",
    "plt.legend()\n",
    "plt.show()"
   ]
  }
 ],
 "metadata": {
  "kernelspec": {
   "display_name": "Python 3",
   "language": "python",
   "name": "python3"
  },
  "language_info": {
   "codemirror_mode": {
    "name": "ipython",
    "version": 3
   },
   "file_extension": ".py",
   "mimetype": "text/x-python",
   "name": "python",
   "nbconvert_exporter": "python",
   "pygments_lexer": "ipython3",
   "version": "3.6.4"
  }
 },
 "nbformat": 4,
 "nbformat_minor": 2
}
