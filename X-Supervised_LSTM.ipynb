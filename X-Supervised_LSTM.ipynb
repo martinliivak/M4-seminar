{
 "cells": [
  {
   "cell_type": "markdown",
   "metadata": {},
   "source": [
    "LSTM method using this method as a source https://machinelearningmastery.com/time-series-forecasting-long-short-term-memory-network-python/\n",
    "\n",
    "tldr: Transform dataset into supervised method, make it stationary, transform to scale, LSTM"
   ]
  },
  {
   "cell_type": "code",
   "execution_count": 79,
   "metadata": {
    "collapsed": true
   },
   "outputs": [],
   "source": [
    "%matplotlib inline\n",
    "\n",
    "import numpy as np\n",
    "import pandas as pd\n",
    "import matplotlib.pyplot as plt"
   ]
  },
  {
   "cell_type": "code",
   "execution_count": 80,
   "metadata": {},
   "outputs": [],
   "source": [
    "from sklearn.metrics import mean_squared_error\n",
    "from sklearn.preprocessing import MinMaxScaler\n",
    "from keras.models import Sequential\n",
    "from keras.layers import Dense\n",
    "from keras.layers import LSTM\n",
    "\n",
    "# frame a sequence as a supervised learning problem\n",
    "def timeseries_to_supervised(data, lag=1):\n",
    "    df = pd.DataFrame(data)\n",
    "    columns = [df.shift(i) for i in range(1, lag+1)]\n",
    "    columns.append(df)\n",
    "    df = pd.concat(columns, axis=1)\n",
    "    df.fillna(0, inplace=True)\n",
    "    return df\n",
    "\n",
    "# create a differenced series\n",
    "def difference(dataset, interval=1):\n",
    "    diff = list()\n",
    "    for i in range(interval, len(dataset)):\n",
    "        value = dataset[i] - dataset[i - interval]\n",
    "        diff.append(value)\n",
    "    return pd.Series(diff)\n",
    "\n",
    "# invert differenced value\n",
    "def inverse_difference(history, yhat, interval=1):\n",
    "    return yhat + history[-interval]\n",
    "\n",
    "# scale train and test data to [-1, 1]\n",
    "def scale(train, test):\n",
    "    # fit scaler\n",
    "    scaler = MinMaxScaler(feature_range=(-1, 1))\n",
    "    scaler = scaler.fit(train)\n",
    "    # transform train\n",
    "    train = train.reshape(train.shape[0], train.shape[1])\n",
    "    train_scaled = scaler.transform(train)\n",
    "    # transform test\n",
    "    test = test.reshape(test.shape[0], test.shape[1])\n",
    "    test_scaled = scaler.transform(test)\n",
    "    return scaler, train_scaled, test_scaled\n",
    "\n",
    "# inverse scaling for a forecasted value\n",
    "def invert_scale(scaler, X, value):\n",
    "    new_row = [x for x in X] + [value]\n",
    "    array = np.array(new_row)\n",
    "    array = array.reshape(1, len(array))\n",
    "    inverted = scaler.inverse_transform(array)\n",
    "    return inverted[0, -1]\n",
    "\n",
    "# fit an LSTM network to training data\n",
    "def fit_lstm(train, batch_size, nb_epoch, neurons):\n",
    "    X, y = train[:, 0:-1], train[:, -1]\n",
    "    X = X.reshape(X.shape[0], 1, X.shape[1])\n",
    "    model = Sequential()\n",
    "    model.add(LSTM(neurons, batch_input_shape=(batch_size, X.shape[1], X.shape[2]), stateful=True))\n",
    "    model.add(Dense(1))\n",
    "    model.compile(loss='mean_squared_error', optimizer='adam')\n",
    "    for i in range(nb_epoch):\n",
    "        model.fit(X, y, epochs=1, batch_size=batch_size, verbose=0, shuffle=False)\n",
    "        model.reset_states()\n",
    "    return model\n",
    "\n",
    "# make a one-step forecast\n",
    "def forecast_lstm(model, batch_size, X):\n",
    "    X = X.reshape(1, 1, len(X))\n",
    "    yhat = model.predict(X, batch_size=batch_size)\n",
    "    return yhat[0,0]"
   ]
  },
  {
   "cell_type": "markdown",
   "metadata": {},
   "source": [
    "Creating a single model and retraining over same-scale time series\n",
    "\n",
    "NN specific and \"To be used in the future\""
   ]
  },
  {
   "cell_type": "code",
   "execution_count": 81,
   "metadata": {
    "collapsed": true
   },
   "outputs": [],
   "source": [
    "# meee\n",
    "def create_lstm(train, batch_size, neurons):\n",
    "    X, y = train[:, 0:-1], train[:, -1]\n",
    "    X = X.reshape(X.shape[0], 1, X.shape[1])\n",
    "    \n",
    "    model = Sequential()\n",
    "    model.add(LSTM(neurons, batch_input_shape=(batch_size, X.shape[1], X.shape[2]), stateful=True))\n",
    "    model.add(Dense(1))\n",
    "    model.compile(loss='mean_squared_error', optimizer='adam')\n",
    "    \n",
    "    return model\n",
    "\n",
    "# fits me\n",
    "def fit_model(model, nb_epoch):\n",
    "    pass"
   ]
  },
  {
   "cell_type": "raw",
   "metadata": {
    "scrolled": false
   },
   "source": [
    "# forecast the entire training dataset to build up state for forecasting\n",
    "train_reshaped = train_scaled[:, 0].reshape(len(train_scaled), 1, 1)\n",
    "lstm_model.predict(train_reshaped, batch_size=1)\n",
    "\n",
    "# walk-forward validation on the test data\n",
    "predictions = list()\n",
    "for i in range(len(test_scaled)):\n",
    "    # make one-step forecast\n",
    "    X, y = test_scaled[i, 0:-1], test_scaled[i, -1]\n",
    "    yhat = forecast_lstm(lstm_model, 1, X)\n",
    "    # invert scaling\n",
    "    yhat = invert_scale(scaler, X, yhat)\n",
    "    # invert differencing\n",
    "    yhat = inverse_difference(raw_values, yhat, len(test_scaled)+1-i)\n",
    "    # store forecast\n",
    "    predictions.append(yhat)\n",
    "    expected = raw_values[len(train) + i + 1]\n",
    "    print('Month=%d, Predicted=%f, Expected=%f' % (i+1, yhat, expected))"
   ]
  },
  {
   "cell_type": "raw",
   "metadata": {},
   "source": [
    "# report performance\n",
    "rmse = np.sqrt(mean_squared_error(raw_values[-14:], predictions))\n",
    "print('Test RMSE: %.3f' % rmse)\n",
    "# line plot of observed vs predicted\n",
    "plt.plot(raw_values[-14:], label=\"Test data\")\n",
    "plt.plot(predictions, label=\"Predictions\")\n",
    "plt.legend()\n",
    "plt.show()"
   ]
  },
  {
   "cell_type": "markdown",
   "metadata": {},
   "source": [
    "Alternative prediction using the last predicted value as the input. This is necessary because we want to predict more than one time unit ahead."
   ]
  },
  {
   "cell_type": "markdown",
   "metadata": {},
   "source": [
    "Lets try with another dataset"
   ]
  },
  {
   "cell_type": "code",
   "execution_count": 82,
   "metadata": {
    "scrolled": false
   },
   "outputs": [],
   "source": [
    "def scale2(train_data):\n",
    "    # fit scaler\n",
    "    scaler = MinMaxScaler(feature_range=(-1, 1))\n",
    "    scaler = scaler.fit(train_data)\n",
    "    # transform train\n",
    "    train = train_data.reshape(train_data.shape[0], train_data.shape[1])\n",
    "    train_scaled = scaler.transform(train_data)\n",
    "    return scaler, train_scaled\n",
    "\n",
    "def make_predictions(lstm_model, train_scaled, scaler, raw_values, number_of_predictions):\n",
    "    train_reshaped = train_scaled[:, 0].reshape(len(train_scaled), 1, 1)\n",
    "    lstm_model.predict(train_reshaped, batch_size=1)\n",
    "\n",
    "    scaled_predictions = list()\n",
    "    predictions = list()\n",
    "    X = train_scaled[-1,1:2]\n",
    "\n",
    "    yhat = forecast_lstm(lstm_model, 1, X)\n",
    "    scaled_predictions.append(yhat)\n",
    "    \n",
    "    yhat = invert_scale(scaler, X, yhat)\n",
    "    yhat = yhat + raw_values[-1]\n",
    "    predictions.append(yhat)\n",
    "    \n",
    "    # Predict N steps into the FUTURE!\n",
    "    for i in range(1, number_of_predictions):\n",
    "        X = np.array([scaled_predictions[-1]])\n",
    "        yhat = forecast_lstm(lstm_model, 1, X)\n",
    "        scaled_predictions.append(yhat)\n",
    "        \n",
    "        yhat = invert_scale(scaler, X, yhat)\n",
    "        yhat = yhat + predictions[-1]\n",
    "        predictions.append(yhat)\n",
    "    \n",
    "    # removed for mass predictions\n",
    "    #print(scaled_predictions)\n",
    "    #print(predictions)\n",
    "\n",
    "    return predictions\n",
    "    \n",
    "\n",
    "def create_model_and_predict(train_series, number_of_predictions):\n",
    "    # transform data to be stationary\n",
    "    raw_values = train_series.values\n",
    "    diff_values = difference(raw_values, 1)\n",
    "\n",
    "    # transform data to be supervised learning\n",
    "    supervised = timeseries_to_supervised(diff_values, 1)\n",
    "    supervised_values = supervised.values\n",
    "\n",
    "    # transform the scale of the data\n",
    "    scaler, train_scaled = scale2(supervised_values)\n",
    "\n",
    "    # fit the model\n",
    "    lstm_model = fit_lstm(train_scaled, 1, 10, 4)\n",
    "    \n",
    "    predictions = make_predictions(lstm_model, train_scaled, scaler, raw_values, number_of_predictions)\n",
    "    return predictions"
   ]
  },
  {
   "cell_type": "markdown",
   "metadata": {},
   "source": [
    "Failsafe single prediction"
   ]
  },
  {
   "cell_type": "code",
   "execution_count": 83,
   "metadata": {
    "collapsed": true
   },
   "outputs": [],
   "source": [
    "# Prediction lengths for different scopes\n",
    "horizon_lengths = {\"H\" : 48, \"D\" : 14, \"M\" : 18, \"Q\" : 8, \"Y\" : 6}\n",
    "\n",
    "# Load datasets\n",
    "train_set = pd.read_csv('./data/cut/1000/train/Daily.csv')\n",
    "test_set = pd.read_csv('./data/cut/1000/test/Daily.csv')\n",
    "\n",
    "# load dataset\n",
    "series_name = train_set.iloc[1,1]\n",
    "n_predictons = horizon_lengths[series_name[0].upper()]\n",
    "\n",
    "series = train_set.iloc[1,2:].dropna()\n",
    "test_series = test_set.iloc[1,1:]\n",
    "\n",
    "# Predict from the series\n",
    "pred = create_model_and_predict(series, n_predictons)"
   ]
  },
  {
   "cell_type": "markdown",
   "metadata": {},
   "source": [
    "Loopy predictions"
   ]
  },
  {
   "cell_type": "code",
   "execution_count": 84,
   "metadata": {},
   "outputs": [
    {
     "name": "stdout",
     "output_type": "stream",
     "text": [
      "Started training using Daily.csv...\n",
      "Time series D357 predictions completed\n"
     ]
    },
    {
     "ename": "AssertionError",
     "evalue": "",
     "output_type": "error",
     "traceback": [
      "\u001b[1;31m---------------------------------------------------------------------------\u001b[0m",
      "\u001b[1;31mAssertionError\u001b[0m                            Traceback (most recent call last)",
      "\u001b[1;32m<ipython-input-84-a87463543315>\u001b[0m in \u001b[0;36m<module>\u001b[1;34m()\u001b[0m\n\u001b[0;32m     39\u001b[0m \u001b[1;33m\u001b[0m\u001b[0m\n\u001b[0;32m     40\u001b[0m         \u001b[0mprint\u001b[0m\u001b[1;33m(\u001b[0m\u001b[1;34m\"Time series \"\u001b[0m \u001b[1;33m+\u001b[0m \u001b[0mseries_name\u001b[0m \u001b[1;33m+\u001b[0m \u001b[1;34m\" predictions completed\"\u001b[0m\u001b[1;33m)\u001b[0m\u001b[1;33m\u001b[0m\u001b[0m\n\u001b[1;32m---> 41\u001b[1;33m         \u001b[1;32massert\u001b[0m \u001b[1;32mFalse\u001b[0m\u001b[1;33m\u001b[0m\u001b[0m\n\u001b[0m\u001b[0;32m     42\u001b[0m \u001b[1;33m\u001b[0m\u001b[0m\n\u001b[0;32m     43\u001b[0m     \u001b[0mprint\u001b[0m\u001b[1;33m(\u001b[0m\u001b[0mfile\u001b[0m \u001b[1;33m+\u001b[0m \u001b[1;34m\" training completed.\"\u001b[0m\u001b[1;33m)\u001b[0m\u001b[1;33m\u001b[0m\u001b[0m\n",
      "\u001b[1;31mAssertionError\u001b[0m: "
     ]
    }
   ],
   "source": [
    "import os\n",
    "\n",
    "# Prediction lengths for different scopes\n",
    "horizon_lengths = {\"H\" : 48, \"D\" : 14, \"M\" : 18, \"Q\" : 8, \"Y\" : 6}\n",
    "\n",
    "# All filenames for different scopes\n",
    "filenames = os.listdir(\"./data/cut/1000/train/\")\n",
    "\n",
    "# Results\n",
    "results_frame = pd.DataFrame()\n",
    "\n",
    "# Test series frame for plotting or w/e\n",
    "test_frame = pd.DataFrame()\n",
    "\n",
    "for file in filenames:\n",
    "    print(\"Started training using \" + file + \"...\")\n",
    "    \n",
    "    # Load datasets\n",
    "    train_set = pd.read_csv('./data/cut/1000/train/' + file)\n",
    "    test_set = pd.read_csv('./data/cut/1000/test/' + file)\n",
    "    \n",
    "    # Go through all the time series in the scope \n",
    "    for i in range(1, train_set.shape[0]):\n",
    "        # load dataset\n",
    "        series_name = train_set.iloc[i,1]\n",
    "        n_predictons = horizon_lengths[series_name[0].upper()]\n",
    "        \n",
    "        series = train_set.iloc[i,2:].dropna()\n",
    "        test_series = test_set.iloc[i,1:].tolist()\n",
    "        test_series.insert(0, series_name)\n",
    "        \n",
    "        # Predict from the series\n",
    "        pred = create_model_and_predict(series, n_predictons)\n",
    "        pred.insert(0, series_name)\n",
    "        \n",
    "        # Square brackets append the list as a row\n",
    "        results_frame = results_frame.append([pred], ignore_index=True)\n",
    "        test_frame = test_frame.append([test_series], ignore_index=True)\n",
    "\n",
    "        print(\"Time series \" + series_name + \" predictions completed\")        \n",
    "        #assert False\n",
    "    \n",
    "    print(file + \" training completed.\")"
   ]
  },
  {
   "cell_type": "markdown",
   "metadata": {},
   "source": [
    "Write the resulting data frame to .csv"
   ]
  },
  {
   "cell_type": "code",
   "execution_count": 85,
   "metadata": {},
   "outputs": [
    {
     "data": {
      "text/html": [
       "<div>\n",
       "<style scoped>\n",
       "    .dataframe tbody tr th:only-of-type {\n",
       "        vertical-align: middle;\n",
       "    }\n",
       "\n",
       "    .dataframe tbody tr th {\n",
       "        vertical-align: top;\n",
       "    }\n",
       "\n",
       "    .dataframe thead th {\n",
       "        text-align: right;\n",
       "    }\n",
       "</style>\n",
       "<table border=\"1\" class=\"dataframe\">\n",
       "  <thead>\n",
       "    <tr style=\"text-align: right;\">\n",
       "      <th></th>\n",
       "      <th>0</th>\n",
       "      <th>1</th>\n",
       "      <th>2</th>\n",
       "      <th>3</th>\n",
       "      <th>4</th>\n",
       "      <th>5</th>\n",
       "      <th>6</th>\n",
       "      <th>7</th>\n",
       "      <th>8</th>\n",
       "      <th>9</th>\n",
       "      <th>10</th>\n",
       "      <th>11</th>\n",
       "      <th>12</th>\n",
       "      <th>13</th>\n",
       "      <th>14</th>\n",
       "    </tr>\n",
       "  </thead>\n",
       "  <tbody>\n",
       "    <tr>\n",
       "      <th>0</th>\n",
       "      <td>D357</td>\n",
       "      <td>7146.88</td>\n",
       "      <td>7168.75</td>\n",
       "      <td>7162.5</td>\n",
       "      <td>7165.62</td>\n",
       "      <td>7209.38</td>\n",
       "      <td>7165.62</td>\n",
       "      <td>7159.38</td>\n",
       "      <td>7081.25</td>\n",
       "      <td>7009.38</td>\n",
       "      <td>6937.5</td>\n",
       "      <td>6925.0</td>\n",
       "      <td>6959.38</td>\n",
       "      <td>6912.5</td>\n",
       "      <td>6871.88</td>\n",
       "    </tr>\n",
       "  </tbody>\n",
       "</table>\n",
       "</div>"
      ],
      "text/plain": [
       "     0        1        2       3        4        5        6        7   \\\n",
       "0  D357  7146.88  7168.75  7162.5  7165.62  7209.38  7165.62  7159.38   \n",
       "\n",
       "        8        9       10      11       12      13       14  \n",
       "0  7081.25  7009.38  6937.5  6925.0  6959.38  6912.5  6871.88  "
      ]
     },
     "execution_count": 85,
     "metadata": {},
     "output_type": "execute_result"
    }
   ],
   "source": [
    "results_frame.to_csv(\"./results.csv\", index=False)"
   ]
  },
  {
   "cell_type": "markdown",
   "metadata": {},
   "source": [
    "Printing out a single prediction, if one so chooses"
   ]
  },
  {
   "cell_type": "code",
   "execution_count": 86,
   "metadata": {},
   "outputs": [
    {
     "name": "stdout",
     "output_type": "stream",
     "text": [
      "Test RMSE: 191.499\n"
     ]
    },
    {
     "data": {
      "image/png": "[encoded data removed]",
      "text/plain": [
       "<matplotlib.figure.Figure at 0x24da8fd89b0>"
      ]
     },
     "metadata": {},
     "output_type": "display_data"
    }
   ],
   "source": [
    "rmse = np.sqrt(mean_squared_error(test_frame.iloc[0, 1:], results_frame.iloc[0, 1:]))\n",
    "print('Test RMSE: %.3f' % rmse)\n",
    "# line plot of observed vs predicted\n",
    "plt.plot(test_frame.iloc[0, 1:], label=\"Test data\")\n",
    "plt.plot(results_frame.iloc[0, 1:], label=\"Predictions\")\n",
    "plt.legend()\n",
    "plt.show()"
   ]
  },
  {
   "cell_type": "code",
   "execution_count": null,
   "metadata": {},
   "outputs": [],
   "source": [
    "len(pred)"
   ]
  }
 ],
 "metadata": {
  "kernelspec": {
   "display_name": "Python 3",
   "language": "python",
   "name": "python3"
  },
  "language_info": {
   "codemirror_mode": {
    "name": "ipython",
    "version": 3
   },
   "file_extension": ".py",
   "mimetype": "text/x-python",
   "name": "python",
   "nbconvert_exporter": "python",
   "pygments_lexer": "ipython3",
   "version": "3.6.1"
  }
 },
 "nbformat": 4,
 "nbformat_minor": 2
}
